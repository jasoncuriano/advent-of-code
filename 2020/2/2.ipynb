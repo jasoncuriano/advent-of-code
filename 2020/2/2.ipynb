{
 "metadata": {
  "language_info": {
   "codemirror_mode": {
    "name": "ipython",
    "version": 3
   },
   "file_extension": ".py",
   "mimetype": "text/x-python",
   "name": "python",
   "nbconvert_exporter": "python",
   "pygments_lexer": "ipython3",
   "version": "3.9.0-final"
  },
  "orig_nbformat": 2,
  "kernelspec": {
   "name": "python3",
   "display_name": "Python 3.9.0 64-bit",
   "metadata": {
    "interpreter": {
     "hash": "ac2eaa0ea0ebeafcc7822e65e46aa9d4f966f30b695406963e145ea4a91cd4fc"
    }
   }
  }
 },
 "nbformat": 4,
 "nbformat_minor": 2,
 "cells": [
  {
   "source": [
    "# AoC Day 2\n"
   ],
   "cell_type": "markdown",
   "metadata": {}
  },
  {
   "source": [
    "## Part 1"
   ],
   "cell_type": "markdown",
   "metadata": {}
  },
  {
   "source": [
    "Load the file and construct a dictionary holding the three important elements to be used later on:\n",
    "\n",
    "- range (list of ints)\n",
    "- letter \n",
    "- password"
   ],
   "cell_type": "markdown",
   "metadata": {}
  },
  {
   "cell_type": "code",
   "execution_count": 105,
   "metadata": {
    "tags": []
   },
   "outputs": [],
   "source": [
    "import os\n",
    "\n",
    "def load_file():\n",
    "    cwd = os.getcwd()\n",
    "    with open(f\"{cwd}/input.txt\") as f:\n",
    "        lines = f.read().splitlines() \n",
    "    return lines\n",
    "\n",
    "def parse(input_file):\n",
    "    data = []\n",
    "    for i in input_file:\n",
    "        datadict = {\n",
    "            'range': i.split(' ')[0].split('-'),\n",
    "            'letter': i.split(' ')[1].rstrip(':'),\n",
    "            'password': i.split(' ')[2]\n",
    "        }\n",
    "        data.append(datadict)\n",
    "    return data\n",
    "\n",
    "data = parse(load_file())"
   ]
  },
  {
   "source": [
    "Load the previously created dictionary and then use .count() and .range() to determine if the amount is within the specified range (inclusive). If yes, "
   ],
   "cell_type": "markdown",
   "metadata": {}
  },
  {
   "cell_type": "code",
   "execution_count": 103,
   "metadata": {},
   "outputs": [
    {
     "output_type": "stream",
     "name": "stdout",
     "text": [
      "Count of valid passwords is: 556\n"
     ]
    }
   ],
   "source": [
    "def get_number_of_valid_passwords_range(data):\n",
    "    validity_tracker = []\n",
    "    for i in data:\n",
    "        if i['password'].count(i['letter']) in range(int(i['range'][0]),int(i['range'][1])+1):\n",
    "            validity_tracker.append(f\"'{i['password']}' is valid.\")\n",
    "    return len(validity_tracker)\n",
    "\n",
    "print(f\"Count of valid passwords is: {get_number_of_valid_passwords_range(data)}\")"
   ]
  },
  {
   "source": [
    "## Part 2"
   ],
   "cell_type": "markdown",
   "metadata": {}
  },
  {
   "cell_type": "code",
   "execution_count": 117,
   "metadata": {
    "tags": []
   },
   "outputs": [
    {
     "output_type": "stream",
     "name": "stdout",
     "text": [
      "Count of valid passwords is: 605\n"
     ]
    }
   ],
   "source": [
    "def get_number_of_valid_passwords(data):\n",
    "    for i in data:\n",
    "        i.update({'valid':0})\n",
    "        try:\n",
    "            if i['password'][int(i['range'][0])-1] == i['letter']:\n",
    "                i['valid'] = i.get('valid') +1\n",
    "            if i['password'][int(i['range'][1])-1] == i['letter']:\n",
    "                i['valid'] = i.get('valid') +1\n",
    "        except Exception:\n",
    "            pass\n",
    "\n",
    "    validity_tracker = []        \n",
    "    for i in data:\n",
    "        if i['valid'] == 1:\n",
    "            validity_tracker.append(f\"'{i['password']}' is valid.\")\n",
    "    return len(validity_tracker)\n",
    "\n",
    "print(f\"Count of valid passwords is: {get_number_of_valid_passwords(data)}\")"
   ]
  }
 ]
}