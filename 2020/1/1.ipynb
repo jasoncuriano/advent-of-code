{
 "metadata": {
  "language_info": {
   "codemirror_mode": {
    "name": "ipython",
    "version": 3
   },
   "file_extension": ".py",
   "mimetype": "text/x-python",
   "name": "python",
   "nbconvert_exporter": "python",
   "pygments_lexer": "ipython3",
   "version": "3.9.0-final"
  },
  "orig_nbformat": 2,
  "kernelspec": {
   "name": "python3",
   "display_name": "Python 3.9.0 64-bit ('env')",
   "metadata": {
    "interpreter": {
     "hash": "f20a52641f5857321981c421658312a2f0aa5b90c00e8f004ff5615eb062a722"
    }
   }
  }
 },
 "nbformat": 4,
 "nbformat_minor": 2,
 "cells": [
  {
   "source": [
    "# AoC Day 1\n"
   ],
   "cell_type": "markdown",
   "metadata": {}
  },
  {
   "source": [
    "## Part 1\n",
    "\n",
    "Setup reusable functions for:\n",
    "- Loading a file and returning a list of ints\n",
    "- Taking a tuple of ints and returning a product of multiplication\n",
    "\n",
    "I didn't use numpy here because it's not working on my mac runnnign Big Sur + Python 3.9 right now!!"
   ],
   "cell_type": "markdown",
   "metadata": {}
  },
  {
   "source": [
    "import os\n",
    "import operator\n",
    "import itertools\n",
    "import functools\n",
    "\n",
    "def get_numbers_from_file():\n",
    "    cwd = os.getcwd()\n",
    "    input_file = open(f\"{cwd}/input.txt\",'r')\n",
    "    input_numbers = [int(i) for i in input_file]\n",
    "    return input_numbers\n",
    "\n",
    "def get_product(numbers_to_multiply):\n",
    "    return(functools.reduce(operator.mul, [i for i in numbers_to_multiply], 1))"
   ],
   "cell_type": "code",
   "metadata": {},
   "execution_count": null,
   "outputs": []
  },
  {
   "source": [
    "Using the each number in the list, attempt to subtract it from 2020 (the 'target' sum) until a result that equals 2020 is found. Once found, return both numbers."
   ],
   "cell_type": "markdown",
   "metadata": {}
  },
  {
   "cell_type": "code",
   "execution_count": 168,
   "metadata": {},
   "outputs": [
    {
     "output_type": "stream",
     "name": "stdout",
     "text": [
      "Part 1: 921504\n"
     ]
    }
   ],
   "source": [
    "def find_two_numbers_equaling_sum(input_numbers,sum_target=2020):\n",
    "   for i in input_numbers:\n",
    "       number_to_find = sum_target - i\n",
    "       if number_to_find in input_numbers:\n",
    "           return(i,number_to_find)\n",
    "\n",
    "numbers_to_multiply = find_two_numbers_equaling_sum(get_numbers_from_file())\n",
    "print(f\"Part 1: {get_product(numbers_to_multiply)}\")"
   ]
  },
  {
   "source": [
    "## Part 2\n",
    "\n",
    "User itertools.combinations to create tuples of every possible combination of 3 elements in the input list. Attempt to sum the result until one that is equal to 2020 is found. Once found, return the tuple of three elements."
   ],
   "cell_type": "markdown",
   "metadata": {}
  },
  {
   "cell_type": "code",
   "execution_count": 169,
   "metadata": {},
   "outputs": [
    {
     "output_type": "stream",
     "name": "stdout",
     "text": [
      "Part 2: 195700142\n"
     ]
    }
   ],
   "source": [
    "def find_any_amount_of_numbers_equaling_sum(input_numbers,sum_target=2020,number_of_combinations=3):\n",
    "    for i in itertools.combinations(input_numbers,number_of_combinations):\n",
    "        if sum(i) == sum_target:\n",
    "            return(i)\n",
    "\n",
    "numbers_to_multiply = find_any_amount_of_numbers_equaling_sum(get_numbers_from_file())\n",
    "print(f\"Part 2: {get_product(numbers_to_multiply)}\")"
   ]
  },
  {
   "cell_type": "code",
   "execution_count": null,
   "metadata": {},
   "outputs": [],
   "source": []
  }
 ]
}